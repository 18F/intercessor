{
 "cells": [
  {
   "cell_type": "code",
   "execution_count": 322,
   "metadata": {
    "collapsed": false
   },
   "outputs": [],
   "source": [
    "import pandas as pd\n",
    "import numpy as np\n",
    "pd.set_option('expand_frame_repr', True)\n",
    "award_string = 'SBAHQ-'"
   ]
  },
  {
   "cell_type": "markdown",
   "metadata": {},
   "source": [
    "## Find Files and Columns\n",
    "Using a sample award id string, look through JAAMS and Prism files to see which ones contain award ids.\n",
    "For files that contain award id data, find out which column(s) the award id is in."
   ]
  },
  {
   "cell_type": "code",
   "execution_count": 323,
   "metadata": {
    "collapsed": false
   },
   "outputs": [],
   "source": [
    "#assuming that award ids for this data subset are start with 'SBAHQ-', \n",
    "#find the JAAMS and Prism tables that contain award is somewhere\n",
    "#in their data\n",
    "awards_files = !grep --include=\\*.txt -rnl -e 'SBAHQ-'  data\n",
    "jaams_awards_files = [f.split('\\n')[0] for f in awards_files if f.find('jaams') > -1]\n",
    "prism_awards_files = [f.split('\\n')[0] for f in awards_files if f.find('prism') > -1]\n",
    "prism = {}\n",
    "#raw prism files aren't quoted, so many lines won't parse (skip them for now)\n",
    "for fi in prism_awards_files:\n",
    "    key = fi.split('/')[-1][:-4].lower()\n",
    "    prism[key] = pd.read_csv(fi, error_bad_lines = False, warn_bad_lines = False, encoding=\"latin_1\")\n",
    "    prism[key].rename(columns=lambda x: '{}.'.format(key) + x.lower(), inplace = True)\n",
    "prism_csv = pd.read_csv('data/data_act_prism_grants_fy14.csv', encoding=\"latin_1\")\n",
    "jaams = {}\n",
    "for fi in jaams_awards_files:\n",
    "    key = fi.split('/')[-1][:-4].lower()\n",
    "    jaams[key] = pd.read_csv(fi)\n",
    "    jaams[key].rename(columns=lambda x: '{}.'.format(key) + x.lower(), inplace = True)"
   ]
  },
  {
   "cell_type": "markdown",
   "metadata": {},
   "source": [
    "### JAAMS"
   ]
  },
  {
   "cell_type": "code",
   "execution_count": 324,
   "metadata": {
    "collapsed": false
   },
   "outputs": [
    {
     "name": "stdout",
     "output_type": "stream",
     "text": [
      "looking for JAAMS colums that have an award id\n",
      "\n",
      "po_lines_all: po_lines_all.attribute1\n",
      "ap_invoice_distributions_all: ap_invoice_distributions_all.attribute3\n",
      "po_requisition_headers_all: po_requisition_headers_all.attribute2\n",
      "ap_invoices_all: ap_invoices_all.invoice_num\n",
      "ap_invoices_all: ap_invoices_all.attribute11\n",
      "po_headers_all: po_headers_all.segment1\n"
     ]
    }
   ],
   "source": [
    "print('looking for JAAMS colums that have an award id\\n')\n",
    "for k, df in jaams.items():\n",
    "    for col in df:\n",
    "        if df[col].to_string().find(award_string) >= 0:\n",
    "            print ('{}: {}'.format(k, col))"
   ]
  },
  {
   "cell_type": "markdown",
   "metadata": {},
   "source": [
    "### Prism"
   ]
  },
  {
   "cell_type": "code",
   "execution_count": 325,
   "metadata": {
    "collapsed": false,
    "scrolled": true
   },
   "outputs": [
    {
     "name": "stdout",
     "output_type": "stream",
     "text": [
      "looking for Prism colums that have an award id\n",
      "\n",
      "grantheader: grantheader.sba1222progcode\n",
      "grantheader: grantheader.sba1222budgetcode\n",
      "grantheader: grantheader.sba1222documentno\n",
      "faadsciv: faadsciv.docnum\n",
      "header: header.docnum\n",
      "prism csv: Grant Number\n",
      "prism csv: Award ID\n",
      "prism csv: Unique Identifer\n"
     ]
    }
   ],
   "source": [
    "print('looking for Prism colums that have an award id\\n')\n",
    "for k, df in prism.items():\n",
    "    for col in df:\n",
    "        if df[col].to_string().find(award_string) >= 0:\n",
    "            print ('{}: {}'.format(k, col))\n",
    "for col in prism_csv:\n",
    "    if prism_csv[col].to_string().find(award_string) >= 0:\n",
    "        print ('prism csv: {}'.format(col))"
   ]
  },
  {
   "cell_type": "markdown",
   "metadata": {},
   "source": [
    "## Joining JAAMS and Prism\n",
    "\n",
    "Very, very preliminary sketch of relationship between Prism and JAAMS.\n",
    "* According to the SBA mapping doc, the unique award id is in JAAMS: PO_HEADERS_ALL.SEGMENT1\n",
    "* Obviously we need an award id in Prism to join the two systems. A few Prism tables had columns that contain award id-looking information:\n",
    "    * header.docnum\n",
    "    * grantheader.sba1222progcode\n",
    "    * grantheader.sba1222budgetcode\n",
    "    * grantheader.sba1222documentno\n",
    "    * faadsciv.docnum\n",
    "    \n",
    "The columns in grantheader look like they are free-text columns that sometimes contain what looks like the JAAMS award id. It doesn't seem like the right match."
   ]
  },
  {
   "cell_type": "markdown",
   "metadata": {},
   "source": [
    "![Prism/JAAMS relationship](prism_jaams_relationship.png 'Prism/JAAMS relatinoship')"
   ]
  },
  {
   "cell_type": "markdown",
   "metadata": {},
   "source": [
    "## JAAMS PO_HEADERS_ALL to Prism Header.docnum\n",
    "\n",
    "This matches 18 records between JAAMS and Prism (a single award id: SBAHQ-14-S-0001)"
   ]
  },
  {
   "cell_type": "code",
   "execution_count": 326,
   "metadata": {
    "collapsed": false,
    "scrolled": true
   },
   "outputs": [
    {
     "name": "stdout",
     "output_type": "stream",
     "text": [
      "Number of po_headers_all records matched to prism header: 18\n",
      "Award ids matched: ['SBAHQ-14-S-0001']\n"
     ]
    },
    {
     "name": "stderr",
     "output_type": "stream",
     "text": [
      "/Users/rebeccasweger/Dev/.virtualenvs/intercessor/lib/python2.7/site-packages/IPython/kernel/__main__.py:6: SettingWithCopyWarning: \n",
      "A value is trying to be set on a copy of a slice from a DataFrame.\n",
      "Try using .loc[row_indexer,col_indexer] = value instead\n",
      "\n",
      "See the the caveats in the documentation: http://pandas.pydata.org/pandas-docs/stable/indexing.html#indexing-view-versus-copy\n"
     ]
    }
   ],
   "source": [
    "header = prism['header']\n",
    "po_headers_all = jaams['po_headers_all']\n",
    "po_headers_all['po_headers_all.segment1_stripped'] = po_headers_all['po_headers_all.segment1'].replace('-', '', regex = True)\n",
    "#remove some strange rows from the header file\n",
    "header = header.dropna(subset = ['header.docnum', 'header.dockey'])\n",
    "header['header.docnum_stripped'] = header['header.docnum'].replace('-', '', regex = True)\n",
    "\n",
    "jp_merge = pd.merge(\n",
    "    po_headers_all,\n",
    "    header,\n",
    "    left_on = 'po_headers_all.segment1_stripped',\n",
    "    right_on = 'header.docnum_stripped')\n",
    "print ('Number of po_headers_all records matched to prism header: {}'.format(len(jp_merge.index)))\n",
    "print ('Award ids matched: {}'.format(pd.unique(jp_merge['po_headers_all.segment1'].ravel())))"
   ]
  },
  {
   "cell_type": "markdown",
   "metadata": {},
   "source": [
    "## JAAMS PO_HEADERS_ALL to Prism faadsciv\n",
    "\n",
    "Nothing matched, even though it looks like it should (i.e., SBAHQ-14-S-0001 is in the faadsciv file.) Deferring this for now, since it doesn't make sense to match to something faads (i.e., grants) specific)"
   ]
  },
  {
   "cell_type": "code",
   "execution_count": 327,
   "metadata": {
    "collapsed": false
   },
   "outputs": [],
   "source": [
    "#faadsciv = prism['faadsciv']\n",
    "#faadsciv['faadsciv.docnum_stripped'] = faadsciv['faadsciv.docnum'].replace('-', '', regex = True)\n",
    "#jp_merge = pd.merge(\n",
    "#    po_headers_all,\n",
    "#    faadsciv,\n",
    "#    left_on = 'po_headers_all.segment1_stripped',\n",
    "#    right_on = 'faadsciv.docnum_stripped')\n",
    "#print ('Number of po_headers_all records matched to prism faadsciv: {}'.format(len(jp_merge.index)))\n",
    "#print ('Award ids matched: {}'.format(pd.unique(jp_merge['po_headers_all.segment1'].ravel())))"
   ]
  },
  {
   "cell_type": "markdown",
   "metadata": {},
   "source": [
    "## Merge in Other Required Data"
   ]
  },
  {
   "cell_type": "markdown",
   "metadata": {},
   "source": [
    "### Vendor\n",
    "According to mapping doc, the first address line of the awardee/recipient comes from SAM. The remaining portions of the address are mapped to Prism table docvendor."
   ]
  },
  {
   "cell_type": "code",
   "execution_count": 328,
   "metadata": {
    "collapsed": false
   },
   "outputs": [],
   "source": [
    "jp_merge['header.dockey'] = jp_merge['header.dockey'].astype(np.int64)\n",
    "jp_merge['header.verkey'] = jp_merge['header.verkey'].astype(np.int64)\n",
    "jp_merge.to_csv('jpmerge_before.csv', index = False)\n",
    "docvendor = pd.read_csv(\n",
    "    'data/prism/docVendor.txt',\n",
    "    index_col = False,\n",
    "    error_bad_lines = False,\n",
    "    warn_bad_lines = False\n",
    ")\n",
    "docvendor.rename(columns = lambda x: 'docvendor.' + x.lower(), inplace = True)\n",
    "jp_merge = pd.merge(\n",
    "    jp_merge, docvendor,\n",
    "    left_on = ['header.dockey', 'header.verkey'],\n",
    "    right_on = ['docvendor.dockey', 'docvendor.verkey']\n",
    ")"
   ]
  },
  {
   "cell_type": "markdown",
   "metadata": {},
   "source": [
    "### PO_LINES_ALL (for award amount info)\n",
    "\n",
    "This join was fairly straighforward, since it was included in the sample SQL we got)"
   ]
  },
  {
   "cell_type": "code",
   "execution_count": 329,
   "metadata": {
    "collapsed": false
   },
   "outputs": [
    {
     "data": {
      "text/plain": [
       "162"
      ]
     },
     "execution_count": 329,
     "metadata": {},
     "output_type": "execute_result"
    }
   ],
   "source": [
    "po_lines_all = jaams['po_lines_all']\n",
    "jp_merge = pd.merge(\n",
    "    jp_merge, po_lines_all,\n",
    "    left_on = ['po_headers_all.po_header_id'],\n",
    "    right_on = ['po_lines_all.po_header_id']\n",
    ")\n",
    "len(jp_merge.index)"
   ]
  },
  {
   "cell_type": "code",
   "execution_count": 330,
   "metadata": {
    "collapsed": false
   },
   "outputs": [
    {
     "data": {
      "text/plain": [
       "162"
      ]
     },
     "execution_count": 330,
     "metadata": {},
     "output_type": "execute_result"
    }
   ],
   "source": [
    "jp_merge.to_csv('jp_merge.csv', index = False)\n",
    "len(jp_merge.index)"
   ]
  },
  {
   "cell_type": "markdown",
   "metadata": {},
   "source": [
    "### PO_DISTRIBUTIONS_ALL (for type of transaction)"
   ]
  },
  {
   "cell_type": "code",
   "execution_count": 331,
   "metadata": {
    "collapsed": false
   },
   "outputs": [],
   "source": [
    "po_distributions_all = pd.read_csv('data/jaams/PO_DISTRIBUTIONS_ALL.txt')\n",
    "po_distributions_all.rename(columns = lambda x: 'po_distributions_all.' + x.lower(), inplace = True)\n",
    "jp_merge = pd.merge(\n",
    "    jp_merge, po_distributions_all,\n",
    "    left_on = ['po_lines_all.po_header_id', 'po_lines_all.po_line_id'],\n",
    "    right_on = ['po_distributions_all.po_header_id', 'po_distributions_all.po_line_id']\n",
    ")"
   ]
  },
  {
   "cell_type": "markdown",
   "metadata": {},
   "source": [
    "### GRANTHEADER (POP congressional district)"
   ]
  },
  {
   "cell_type": "code",
   "execution_count": 346,
   "metadata": {
    "collapsed": true
   },
   "outputs": [],
   "source": [
    "grantheader = prism['grantheader']\n"
   ]
  },
  {
   "cell_type": "markdown",
   "metadata": {},
   "source": [
    "### FAADSCIV (additional place of performance info)"
   ]
  },
  {
   "cell_type": "code",
   "execution_count": 332,
   "metadata": {
    "collapsed": false
   },
   "outputs": [],
   "source": [
    "#faadsciv = prism['faadsciv']\n",
    "#jp_merge = pd.merge(\n",
    "#    jp_merge, faadsciv,\n",
    "#    left_on = ['header.docnum'],\n",
    "#    right_on = ['faadsciv.docnum']\n",
    "#)"
   ]
  },
  {
   "cell_type": "markdown",
   "metadata": {},
   "source": [
    "## Add Calculated Fields"
   ]
  },
  {
   "cell_type": "code",
   "execution_count": 333,
   "metadata": {
    "collapsed": false
   },
   "outputs": [],
   "source": [
    "jp_merge['po_lines_all.total_amount'] = jp_merge['po_lines_all.quantity'] * jp_merge['po_lines_all.unit_price']\n",
    "jp_merge['funding_agency_name'] = 'Small Business Administration'\n",
    "jp_merge['funding_agency_code'] = 'fill in SBA code here'\n",
    "jp_merge['funding_sub_tier_agency_name'] = 'Small Business Administration'\n",
    "jp_merge['funding_sub_tier_agency_code'] = 'fill in SBA code here'"
   ]
  },
  {
   "cell_type": "markdown",
   "metadata": {},
   "source": [
    "## Reduce the Huge Merged File to DATA Act Elements"
   ]
  },
  {
   "cell_type": "code",
   "execution_count": 334,
   "metadata": {
    "collapsed": false
   },
   "outputs": [],
   "source": [
    "data_act = jp_merge[[\n",
    "    'po_lines_all.item_description', #award description\n",
    "    'po_headers_all.segment1', #award id\n",
    "    'header.issuingdocaddresskey', #awarding office code\n",
    "    'header.awarddate', #action date\n",
    "    'docvendor.name', #Recipient name\n",
    "    'po_distributions_all.attribute10', #period of performance start date\n",
    "    'po_distributions_all.attribute11', #period of performance end date\n",
    "    'docvendor.duns', #\n",
    "    'docvendor.dunsplus4',\n",
    "    'docvendor.address1',\n",
    "    'po_lines_all.total_amount', #funding action obligation (does not account for cancellations etc.)\n",
    "    'funding_agency_name',\n",
    "    'funding_agency_code',\n",
    "    'funding_sub_tier_agency_name',\n",
    "    'funding_sub_tier_agency_code',\n",
    "    'po_distributions_all.attribute_category' #type of award code\n",
    "    ]]"
   ]
  },
  {
   "cell_type": "code",
   "execution_count": 335,
   "metadata": {
    "collapsed": true
   },
   "outputs": [],
   "source": [
    "data_act.to_csv('data/data_act.csv', index = False)"
   ]
  },
  {
   "cell_type": "code",
<<<<<<< Updated upstream
=======
   "execution_count": 336,
   "metadata": {
    "collapsed": false
   },
   "outputs": [
    {
     "data": {
      "text/plain": [
       "162"
      ]
     },
     "execution_count": 336,
     "metadata": {},
     "output_type": "execute_result"
    }
   ],
   "source": [
    "len(jp_merge.index)"
   ]
  },
  {
   "cell_type": "code",
   "execution_count": 337,
   "metadata": {
    "collapsed": false
   },
   "outputs": [
    {
     "data": {
      "text/html": [
       "<div style=\"max-height:1000px;max-width:1500px;overflow:auto;\">\n",
       "<table border=\"1\" class=\"dataframe\">\n",
       "  <thead>\n",
       "    <tr style=\"text-align: right;\">\n",
       "      <th></th>\n",
       "      <th>header.docnum</th>\n",
       "    </tr>\n",
       "  </thead>\n",
       "  <tbody>\n",
       "    <tr>\n",
       "      <th>0</th>\n",
       "      <td>SBAHQ-14-S-0001</td>\n",
       "    </tr>\n",
       "    <tr>\n",
       "      <th>1</th>\n",
       "      <td>SBAHQ-14-S-0001</td>\n",
       "    </tr>\n",
       "    <tr>\n",
       "      <th>2</th>\n",
       "      <td>SBAHQ-14-S-0001</td>\n",
       "    </tr>\n",
       "    <tr>\n",
       "      <th>3</th>\n",
       "      <td>SBAHQ-14-S-0001</td>\n",
       "    </tr>\n",
       "    <tr>\n",
       "      <th>4</th>\n",
       "      <td>SBAHQ-14-S-0001</td>\n",
       "    </tr>\n",
       "    <tr>\n",
       "      <th>5</th>\n",
       "      <td>SBAHQ-14-S-0001</td>\n",
       "    </tr>\n",
       "    <tr>\n",
       "      <th>6</th>\n",
       "      <td>SBAHQ-14-S-0001</td>\n",
       "    </tr>\n",
       "    <tr>\n",
       "      <th>7</th>\n",
       "      <td>SBAHQ-14-S-0001</td>\n",
       "    </tr>\n",
       "    <tr>\n",
       "      <th>8</th>\n",
       "      <td>SBAHQ-14-S-0001</td>\n",
       "    </tr>\n",
       "    <tr>\n",
       "      <th>9</th>\n",
       "      <td>SBAHQ-14-S-0001</td>\n",
       "    </tr>\n",
       "    <tr>\n",
       "      <th>10</th>\n",
       "      <td>SBAHQ-14-S-0001</td>\n",
       "    </tr>\n",
       "    <tr>\n",
       "      <th>11</th>\n",
       "      <td>SBAHQ-14-S-0001</td>\n",
       "    </tr>\n",
       "    <tr>\n",
       "      <th>12</th>\n",
       "      <td>SBAHQ-14-S-0001</td>\n",
       "    </tr>\n",
       "    <tr>\n",
       "      <th>13</th>\n",
       "      <td>SBAHQ-14-S-0001</td>\n",
       "    </tr>\n",
       "    <tr>\n",
       "      <th>14</th>\n",
       "      <td>SBAHQ-14-S-0001</td>\n",
       "    </tr>\n",
       "    <tr>\n",
       "      <th>15</th>\n",
       "      <td>SBAHQ-14-S-0001</td>\n",
       "    </tr>\n",
       "    <tr>\n",
       "      <th>16</th>\n",
       "      <td>SBAHQ-14-S-0001</td>\n",
       "    </tr>\n",
       "    <tr>\n",
       "      <th>17</th>\n",
       "      <td>SBAHQ-14-S-0001</td>\n",
       "    </tr>\n",
       "    <tr>\n",
       "      <th>18</th>\n",
       "      <td>SBAHQ-14-S-0001</td>\n",
       "    </tr>\n",
       "    <tr>\n",
       "      <th>19</th>\n",
       "      <td>SBAHQ-14-S-0001</td>\n",
       "    </tr>\n",
       "    <tr>\n",
       "      <th>20</th>\n",
       "      <td>SBAHQ-14-S-0001</td>\n",
       "    </tr>\n",
       "    <tr>\n",
       "      <th>21</th>\n",
       "      <td>SBAHQ-14-S-0001</td>\n",
       "    </tr>\n",
       "    <tr>\n",
       "      <th>22</th>\n",
       "      <td>SBAHQ-14-S-0001</td>\n",
       "    </tr>\n",
       "    <tr>\n",
       "      <th>23</th>\n",
       "      <td>SBAHQ-14-S-0001</td>\n",
       "    </tr>\n",
       "    <tr>\n",
       "      <th>24</th>\n",
       "      <td>SBAHQ-14-S-0001</td>\n",
       "    </tr>\n",
       "    <tr>\n",
       "      <th>25</th>\n",
       "      <td>SBAHQ-14-S-0001</td>\n",
       "    </tr>\n",
       "    <tr>\n",
       "      <th>26</th>\n",
       "      <td>SBAHQ-14-S-0001</td>\n",
       "    </tr>\n",
       "    <tr>\n",
       "      <th>27</th>\n",
       "      <td>SBAHQ-14-S-0001</td>\n",
       "    </tr>\n",
       "    <tr>\n",
       "      <th>28</th>\n",
       "      <td>SBAHQ-14-S-0001</td>\n",
       "    </tr>\n",
       "    <tr>\n",
       "      <th>29</th>\n",
       "      <td>SBAHQ-14-S-0001</td>\n",
       "    </tr>\n",
       "    <tr>\n",
       "      <th>...</th>\n",
       "      <td>...</td>\n",
       "    </tr>\n",
       "    <tr>\n",
       "      <th>132</th>\n",
       "      <td>SBAHQ-14-S-0001</td>\n",
       "    </tr>\n",
       "    <tr>\n",
       "      <th>133</th>\n",
       "      <td>SBAHQ-14-S-0001</td>\n",
       "    </tr>\n",
       "    <tr>\n",
       "      <th>134</th>\n",
       "      <td>SBAHQ-14-S-0001</td>\n",
       "    </tr>\n",
       "    <tr>\n",
       "      <th>135</th>\n",
       "      <td>SBAHQ-14-S-0001</td>\n",
       "    </tr>\n",
       "    <tr>\n",
       "      <th>136</th>\n",
       "      <td>SBAHQ-14-S-0001</td>\n",
       "    </tr>\n",
       "    <tr>\n",
       "      <th>137</th>\n",
       "      <td>SBAHQ-14-S-0001</td>\n",
       "    </tr>\n",
       "    <tr>\n",
       "      <th>138</th>\n",
       "      <td>SBAHQ-14-S-0001</td>\n",
       "    </tr>\n",
       "    <tr>\n",
       "      <th>139</th>\n",
       "      <td>SBAHQ-14-S-0001</td>\n",
       "    </tr>\n",
       "    <tr>\n",
       "      <th>140</th>\n",
       "      <td>SBAHQ-14-S-0001</td>\n",
       "    </tr>\n",
       "    <tr>\n",
       "      <th>141</th>\n",
       "      <td>SBAHQ-14-S-0001</td>\n",
       "    </tr>\n",
       "    <tr>\n",
       "      <th>142</th>\n",
       "      <td>SBAHQ-14-S-0001</td>\n",
       "    </tr>\n",
       "    <tr>\n",
       "      <th>143</th>\n",
       "      <td>SBAHQ-14-S-0001</td>\n",
       "    </tr>\n",
       "    <tr>\n",
       "      <th>144</th>\n",
       "      <td>SBAHQ-14-S-0001</td>\n",
       "    </tr>\n",
       "    <tr>\n",
       "      <th>145</th>\n",
       "      <td>SBAHQ-14-S-0001</td>\n",
       "    </tr>\n",
       "    <tr>\n",
       "      <th>146</th>\n",
       "      <td>SBAHQ-14-S-0001</td>\n",
       "    </tr>\n",
       "    <tr>\n",
       "      <th>147</th>\n",
       "      <td>SBAHQ-14-S-0001</td>\n",
       "    </tr>\n",
       "    <tr>\n",
       "      <th>148</th>\n",
       "      <td>SBAHQ-14-S-0001</td>\n",
       "    </tr>\n",
       "    <tr>\n",
       "      <th>149</th>\n",
       "      <td>SBAHQ-14-S-0001</td>\n",
       "    </tr>\n",
       "    <tr>\n",
       "      <th>150</th>\n",
       "      <td>SBAHQ-14-S-0001</td>\n",
       "    </tr>\n",
       "    <tr>\n",
       "      <th>151</th>\n",
       "      <td>SBAHQ-14-S-0001</td>\n",
       "    </tr>\n",
       "    <tr>\n",
       "      <th>152</th>\n",
       "      <td>SBAHQ-14-S-0001</td>\n",
       "    </tr>\n",
       "    <tr>\n",
       "      <th>153</th>\n",
       "      <td>SBAHQ-14-S-0001</td>\n",
       "    </tr>\n",
       "    <tr>\n",
       "      <th>154</th>\n",
       "      <td>SBAHQ-14-S-0001</td>\n",
       "    </tr>\n",
       "    <tr>\n",
       "      <th>155</th>\n",
       "      <td>SBAHQ-14-S-0001</td>\n",
       "    </tr>\n",
       "    <tr>\n",
       "      <th>156</th>\n",
       "      <td>SBAHQ-14-S-0001</td>\n",
       "    </tr>\n",
       "    <tr>\n",
       "      <th>157</th>\n",
       "      <td>SBAHQ-14-S-0001</td>\n",
       "    </tr>\n",
       "    <tr>\n",
       "      <th>158</th>\n",
       "      <td>SBAHQ-14-S-0001</td>\n",
       "    </tr>\n",
       "    <tr>\n",
       "      <th>159</th>\n",
       "      <td>SBAHQ-14-S-0001</td>\n",
       "    </tr>\n",
       "    <tr>\n",
       "      <th>160</th>\n",
       "      <td>SBAHQ-14-S-0001</td>\n",
       "    </tr>\n",
       "    <tr>\n",
       "      <th>161</th>\n",
       "      <td>SBAHQ-14-S-0001</td>\n",
       "    </tr>\n",
       "  </tbody>\n",
       "</table>\n",
       "<p>162 rows × 1 columns</p>\n",
       "</div>"
      ],
      "text/plain": [
       "       header.docnum\n",
       "0    SBAHQ-14-S-0001\n",
       "1    SBAHQ-14-S-0001\n",
       "2    SBAHQ-14-S-0001\n",
       "3    SBAHQ-14-S-0001\n",
       "4    SBAHQ-14-S-0001\n",
       "5    SBAHQ-14-S-0001\n",
       "6    SBAHQ-14-S-0001\n",
       "7    SBAHQ-14-S-0001\n",
       "8    SBAHQ-14-S-0001\n",
       "9    SBAHQ-14-S-0001\n",
       "10   SBAHQ-14-S-0001\n",
       "11   SBAHQ-14-S-0001\n",
       "12   SBAHQ-14-S-0001\n",
       "13   SBAHQ-14-S-0001\n",
       "14   SBAHQ-14-S-0001\n",
       "15   SBAHQ-14-S-0001\n",
       "16   SBAHQ-14-S-0001\n",
       "17   SBAHQ-14-S-0001\n",
       "18   SBAHQ-14-S-0001\n",
       "19   SBAHQ-14-S-0001\n",
       "20   SBAHQ-14-S-0001\n",
       "21   SBAHQ-14-S-0001\n",
       "22   SBAHQ-14-S-0001\n",
       "23   SBAHQ-14-S-0001\n",
       "24   SBAHQ-14-S-0001\n",
       "25   SBAHQ-14-S-0001\n",
       "26   SBAHQ-14-S-0001\n",
       "27   SBAHQ-14-S-0001\n",
       "28   SBAHQ-14-S-0001\n",
       "29   SBAHQ-14-S-0001\n",
       "..               ...\n",
       "132  SBAHQ-14-S-0001\n",
       "133  SBAHQ-14-S-0001\n",
       "134  SBAHQ-14-S-0001\n",
       "135  SBAHQ-14-S-0001\n",
       "136  SBAHQ-14-S-0001\n",
       "137  SBAHQ-14-S-0001\n",
       "138  SBAHQ-14-S-0001\n",
       "139  SBAHQ-14-S-0001\n",
       "140  SBAHQ-14-S-0001\n",
       "141  SBAHQ-14-S-0001\n",
       "142  SBAHQ-14-S-0001\n",
       "143  SBAHQ-14-S-0001\n",
       "144  SBAHQ-14-S-0001\n",
       "145  SBAHQ-14-S-0001\n",
       "146  SBAHQ-14-S-0001\n",
       "147  SBAHQ-14-S-0001\n",
       "148  SBAHQ-14-S-0001\n",
       "149  SBAHQ-14-S-0001\n",
       "150  SBAHQ-14-S-0001\n",
       "151  SBAHQ-14-S-0001\n",
       "152  SBAHQ-14-S-0001\n",
       "153  SBAHQ-14-S-0001\n",
       "154  SBAHQ-14-S-0001\n",
       "155  SBAHQ-14-S-0001\n",
       "156  SBAHQ-14-S-0001\n",
       "157  SBAHQ-14-S-0001\n",
       "158  SBAHQ-14-S-0001\n",
       "159  SBAHQ-14-S-0001\n",
       "160  SBAHQ-14-S-0001\n",
       "161  SBAHQ-14-S-0001\n",
       "\n",
       "[162 rows x 1 columns]"
      ]
     },
     "execution_count": 337,
     "metadata": {},
     "output_type": "execute_result"
    }
   ],
   "source": [
    "jp_merge[['header.docnum']]"
   ]
  },
  {
   "cell_type": "code",
   "execution_count": 338,
   "metadata": {
    "collapsed": false
   },
   "outputs": [
    {
     "data": {
      "text/html": [
       "<div style=\"max-height:1000px;max-width:1500px;overflow:auto;\">\n",
       "<table border=\"1\" class=\"dataframe\">\n",
       "  <thead>\n",
       "    <tr style=\"text-align: right;\">\n",
       "      <th></th>\n",
       "      <th>faadsciv.docnum</th>\n",
       "    </tr>\n",
       "  </thead>\n",
       "  <tbody>\n",
       "    <tr>\n",
       "      <th>0</th>\n",
       "      <td>SBAHQ-15-B-0008</td>\n",
       "    </tr>\n",
       "    <tr>\n",
       "      <th>1</th>\n",
       "      <td>SBAHQ-12-Y-0056</td>\n",
       "    </tr>\n",
       "    <tr>\n",
       "      <th>2</th>\n",
       "      <td>SBAHQ-13-Y-0005</td>\n",
       "    </tr>\n",
       "    <tr>\n",
       "      <th>3</th>\n",
       "      <td>SBAHQ-15-B-0051</td>\n",
       "    </tr>\n",
       "    <tr>\n",
       "      <th>4</th>\n",
       "      <td>SBAHQ-12-Y-0079</td>\n",
       "    </tr>\n",
       "    <tr>\n",
       "      <th>5</th>\n",
       "      <td>SBAHQ-13-Y-0048</td>\n",
       "    </tr>\n",
       "    <tr>\n",
       "      <th>6</th>\n",
       "      <td>SBAHQ-15-B-0024</td>\n",
       "    </tr>\n",
       "    <tr>\n",
       "      <th>7</th>\n",
       "      <td>SBAHQ-10-V-0008</td>\n",
       "    </tr>\n",
       "    <tr>\n",
       "      <th>8</th>\n",
       "      <td>SBAHQ-15-B-0022</td>\n",
       "    </tr>\n",
       "    <tr>\n",
       "      <th>9</th>\n",
       "      <td>SBAHQ-15-B-0044</td>\n",
       "    </tr>\n",
       "    <tr>\n",
       "      <th>10</th>\n",
       "      <td>SBAHQ-15-B-0004</td>\n",
       "    </tr>\n",
       "    <tr>\n",
       "      <th>11</th>\n",
       "      <td>SBAHQ-15-B-0035</td>\n",
       "    </tr>\n",
       "    <tr>\n",
       "      <th>12</th>\n",
       "      <td>SBAHQ-15-B-0019</td>\n",
       "    </tr>\n",
       "    <tr>\n",
       "      <th>13</th>\n",
       "      <td>SBAHQ-13-Y-0027</td>\n",
       "    </tr>\n",
       "    <tr>\n",
       "      <th>14</th>\n",
       "      <td>SBAHQ-11-IT-0011</td>\n",
       "    </tr>\n",
       "    <tr>\n",
       "      <th>15</th>\n",
       "      <td>SBAHQ-15-B-0011</td>\n",
       "    </tr>\n",
       "    <tr>\n",
       "      <th>16</th>\n",
       "      <td>SBAHQ-15-B-0049</td>\n",
       "    </tr>\n",
       "    <tr>\n",
       "      <th>17</th>\n",
       "      <td>SBAHQ-15-B-0029</td>\n",
       "    </tr>\n",
       "    <tr>\n",
       "      <th>18</th>\n",
       "      <td>SBAHQ-15-B-0009</td>\n",
       "    </tr>\n",
       "    <tr>\n",
       "      <th>19</th>\n",
       "      <td>SBAHQ-15-B-0048</td>\n",
       "    </tr>\n",
       "    <tr>\n",
       "      <th>20</th>\n",
       "      <td>SBAHQ-15-B-0011</td>\n",
       "    </tr>\n",
       "    <tr>\n",
       "      <th>21</th>\n",
       "      <td>SBAHQ-15-B-0005</td>\n",
       "    </tr>\n",
       "    <tr>\n",
       "      <th>22</th>\n",
       "      <td>SBAHQ-15-B-0027</td>\n",
       "    </tr>\n",
       "    <tr>\n",
       "      <th>23</th>\n",
       "      <td>SBAHQ-15-B-0034</td>\n",
       "    </tr>\n",
       "    <tr>\n",
       "      <th>24</th>\n",
       "      <td>SBAHQ-15-B-0031</td>\n",
       "    </tr>\n",
       "    <tr>\n",
       "      <th>25</th>\n",
       "      <td>SBAHQ-13-Y-0105</td>\n",
       "    </tr>\n",
       "    <tr>\n",
       "      <th>26</th>\n",
       "      <td>SBAHQ-15-B-0021</td>\n",
       "    </tr>\n",
       "    <tr>\n",
       "      <th>27</th>\n",
       "      <td>SBAHQ-15-B-0019</td>\n",
       "    </tr>\n",
       "    <tr>\n",
       "      <th>28</th>\n",
       "      <td>SBAHQ-11-I-0043</td>\n",
       "    </tr>\n",
       "    <tr>\n",
       "      <th>29</th>\n",
       "      <td>SBAHQ-15-B-0049</td>\n",
       "    </tr>\n",
       "    <tr>\n",
       "      <th>...</th>\n",
       "      <td>...</td>\n",
       "    </tr>\n",
       "    <tr>\n",
       "      <th>51</th>\n",
       "      <td>SBAHQ-15-B-0030</td>\n",
       "    </tr>\n",
       "    <tr>\n",
       "      <th>52</th>\n",
       "      <td>SBAHQ-15-B-0002</td>\n",
       "    </tr>\n",
       "    <tr>\n",
       "      <th>53</th>\n",
       "      <td>SBAHQ-15-B-0040</td>\n",
       "    </tr>\n",
       "    <tr>\n",
       "      <th>54</th>\n",
       "      <td>SBAHQ-15-B-0003</td>\n",
       "    </tr>\n",
       "    <tr>\n",
       "      <th>55</th>\n",
       "      <td>SBAHQ-15-B-0003</td>\n",
       "    </tr>\n",
       "    <tr>\n",
       "      <th>56</th>\n",
       "      <td>SBAHQ-12-IT-0036</td>\n",
       "    </tr>\n",
       "    <tr>\n",
       "      <th>57</th>\n",
       "      <td>SBAHQ-15-B-0018</td>\n",
       "    </tr>\n",
       "    <tr>\n",
       "      <th>58</th>\n",
       "      <td>SBAHQ-13-Y-0152</td>\n",
       "    </tr>\n",
       "    <tr>\n",
       "      <th>59</th>\n",
       "      <td>SBAHQ-15-B-0052</td>\n",
       "    </tr>\n",
       "    <tr>\n",
       "      <th>60</th>\n",
       "      <td>SBAHQ-11-W-0030</td>\n",
       "    </tr>\n",
       "    <tr>\n",
       "      <th>61</th>\n",
       "      <td>SBAHQ-13-Y-0032</td>\n",
       "    </tr>\n",
       "    <tr>\n",
       "      <th>62</th>\n",
       "      <td>SBAHQ-15-B-0031</td>\n",
       "    </tr>\n",
       "    <tr>\n",
       "      <th>63</th>\n",
       "      <td>SBAHQ-15-B-0001</td>\n",
       "    </tr>\n",
       "    <tr>\n",
       "      <th>64</th>\n",
       "      <td>SBAHQ-15-B-0067</td>\n",
       "    </tr>\n",
       "    <tr>\n",
       "      <th>65</th>\n",
       "      <td>SBAHQ-15-B-0025</td>\n",
       "    </tr>\n",
       "    <tr>\n",
       "      <th>66</th>\n",
       "      <td>SBAHQ-13-Y-0067</td>\n",
       "    </tr>\n",
       "    <tr>\n",
       "      <th>67</th>\n",
       "      <td>SBAHQ-13-Y-0069</td>\n",
       "    </tr>\n",
       "    <tr>\n",
       "      <th>68</th>\n",
       "      <td>SBAHQ-15-B-0028</td>\n",
       "    </tr>\n",
       "    <tr>\n",
       "      <th>69</th>\n",
       "      <td>SBAHQ-15-B-0060</td>\n",
       "    </tr>\n",
       "    <tr>\n",
       "      <th>70</th>\n",
       "      <td>SBAHQ-15-B-0063</td>\n",
       "    </tr>\n",
       "    <tr>\n",
       "      <th>71</th>\n",
       "      <td>SBAHQ-15-B-0068</td>\n",
       "    </tr>\n",
       "    <tr>\n",
       "      <th>72</th>\n",
       "      <td>SBAHQ-15-B-0062</td>\n",
       "    </tr>\n",
       "    <tr>\n",
       "      <th>73</th>\n",
       "      <td>SBAHQ-15-B-0055</td>\n",
       "    </tr>\n",
       "    <tr>\n",
       "      <th>74</th>\n",
       "      <td>SBAHQ-15-B-0033</td>\n",
       "    </tr>\n",
       "    <tr>\n",
       "      <th>75</th>\n",
       "      <td>SBAHQ-13-Y-0102</td>\n",
       "    </tr>\n",
       "    <tr>\n",
       "      <th>76</th>\n",
       "      <td>SBAHQ-15-B-0024</td>\n",
       "    </tr>\n",
       "    <tr>\n",
       "      <th>77</th>\n",
       "      <td>SBAHQ-15-B-0009</td>\n",
       "    </tr>\n",
       "    <tr>\n",
       "      <th>78</th>\n",
       "      <td>SBAHQ-15-B-0053</td>\n",
       "    </tr>\n",
       "    <tr>\n",
       "      <th>79</th>\n",
       "      <td>SBAHQ-15-B-0048</td>\n",
       "    </tr>\n",
       "    <tr>\n",
       "      <th>80</th>\n",
       "      <td>SBAHQ-15-B-0051</td>\n",
       "    </tr>\n",
       "  </tbody>\n",
       "</table>\n",
       "<p>81 rows × 1 columns</p>\n",
       "</div>"
      ],
      "text/plain": [
       "     faadsciv.docnum\n",
       "0    SBAHQ-15-B-0008\n",
       "1    SBAHQ-12-Y-0056\n",
       "2    SBAHQ-13-Y-0005\n",
       "3    SBAHQ-15-B-0051\n",
       "4    SBAHQ-12-Y-0079\n",
       "5    SBAHQ-13-Y-0048\n",
       "6    SBAHQ-15-B-0024\n",
       "7    SBAHQ-10-V-0008\n",
       "8    SBAHQ-15-B-0022\n",
       "9    SBAHQ-15-B-0044\n",
       "10   SBAHQ-15-B-0004\n",
       "11   SBAHQ-15-B-0035\n",
       "12   SBAHQ-15-B-0019\n",
       "13   SBAHQ-13-Y-0027\n",
       "14  SBAHQ-11-IT-0011\n",
       "15   SBAHQ-15-B-0011\n",
       "16   SBAHQ-15-B-0049\n",
       "17   SBAHQ-15-B-0029\n",
       "18   SBAHQ-15-B-0009\n",
       "19   SBAHQ-15-B-0048\n",
       "20   SBAHQ-15-B-0011\n",
       "21   SBAHQ-15-B-0005\n",
       "22   SBAHQ-15-B-0027\n",
       "23   SBAHQ-15-B-0034\n",
       "24   SBAHQ-15-B-0031\n",
       "25   SBAHQ-13-Y-0105\n",
       "26   SBAHQ-15-B-0021\n",
       "27   SBAHQ-15-B-0019\n",
       "28   SBAHQ-11-I-0043\n",
       "29   SBAHQ-15-B-0049\n",
       "..               ...\n",
       "51   SBAHQ-15-B-0030\n",
       "52   SBAHQ-15-B-0002\n",
       "53   SBAHQ-15-B-0040\n",
       "54   SBAHQ-15-B-0003\n",
       "55   SBAHQ-15-B-0003\n",
       "56  SBAHQ-12-IT-0036\n",
       "57   SBAHQ-15-B-0018\n",
       "58   SBAHQ-13-Y-0152\n",
       "59   SBAHQ-15-B-0052\n",
       "60   SBAHQ-11-W-0030\n",
       "61   SBAHQ-13-Y-0032\n",
       "62   SBAHQ-15-B-0031\n",
       "63   SBAHQ-15-B-0001\n",
       "64   SBAHQ-15-B-0067\n",
       "65   SBAHQ-15-B-0025\n",
       "66   SBAHQ-13-Y-0067\n",
       "67   SBAHQ-13-Y-0069\n",
       "68   SBAHQ-15-B-0028\n",
       "69   SBAHQ-15-B-0060\n",
       "70   SBAHQ-15-B-0063\n",
       "71   SBAHQ-15-B-0068\n",
       "72   SBAHQ-15-B-0062\n",
       "73   SBAHQ-15-B-0055\n",
       "74   SBAHQ-15-B-0033\n",
       "75   SBAHQ-13-Y-0102\n",
       "76   SBAHQ-15-B-0024\n",
       "77   SBAHQ-15-B-0009\n",
       "78   SBAHQ-15-B-0053\n",
       "79   SBAHQ-15-B-0048\n",
       "80   SBAHQ-15-B-0051\n",
       "\n",
       "[81 rows x 1 columns]"
      ]
     },
     "execution_count": 338,
     "metadata": {},
     "output_type": "execute_result"
    }
   ],
   "source": [
    "faadsciv[['faadsciv.docnum']]"
   ]
  },
  {
   "cell_type": "code",
   "execution_count": 341,
   "metadata": {
    "collapsed": false
   },
   "outputs": [
    {
     "data": {
      "text/html": [
       "<div style=\"max-height:1000px;max-width:1500px;overflow:auto;\">\n",
       "<table border=\"1\" class=\"dataframe\">\n",
       "  <thead>\n",
       "    <tr style=\"text-align: right;\">\n",
       "      <th></th>\n",
       "      <th>faadsciv.dockey</th>\n",
       "      <th>faadsciv.verkey</th>\n",
       "      <th>faadsciv.status</th>\n",
       "      <th>faadsciv.cfdaprogramnumber</th>\n",
       "      <th>faadsciv.sai_number</th>\n",
       "      <th>faadsciv.recipientname</th>\n",
       "      <th>faadsciv.recipientcitycode</th>\n",
       "      <th>faadsciv.recipientcityname</th>\n",
       "      <th>faadsciv.recipientcountycode</th>\n",
       "      <th>faadsciv.recipientcountyname</th>\n",
       "      <th>...</th>\n",
       "      <th>faadsciv.sitetrackrecoveryactfunds</th>\n",
       "      <th>faadsciv.agencyfundstype</th>\n",
       "      <th>faadsciv.tas_label</th>\n",
       "      <th>faadsciv.formattednonrecoverytas#</th>\n",
       "      <th>faadsciv.formattedrecoverytas#</th>\n",
       "      <th>faadsciv.foreignrecipient</th>\n",
       "      <th>faadsciv.recipientcountrycode</th>\n",
       "      <th>faadsciv.recipientcountryname</th>\n",
       "      <th>faadsciv.placeofperfcountrycode</th>\n",
       "      <th>faadsciv.placeofperfcountryname</th>\n",
       "    </tr>\n",
       "  </thead>\n",
       "  <tbody>\n",
       "  </tbody>\n",
       "</table>\n",
       "<p>0 rows × 99 columns</p>\n",
       "</div>"
      ],
      "text/plain": [
       "Empty DataFrame\n",
       "Columns: [faadsciv.dockey, faadsciv.verkey, faadsciv.status, faadsciv.cfdaprogramnumber, faadsciv.sai_number, faadsciv.recipientname, faadsciv.recipientcitycode, faadsciv.recipientcityname, faadsciv.recipientcountycode, faadsciv.recipientcountyname, faadsciv.recipientstatecode, faadsciv.recipientzipcode, faadsciv.recipienttype, faadsciv.actiontype, faadsciv.recipientdistrict, faadsciv.fedagencyorgunitcode, faadsciv.corenumber, faadsciv.modnumber, faadsciv.fedfundingsign, faadsciv.fedfundingamount, faadsciv.nonfedfundingsign, faadsciv.nonfedfundingamount, faadsciv.totalfundingsign, faadsciv.totalfundingamount, faadsciv.actiondate, faadsciv.startdate, faadsciv.enddate, faadsciv.assistancetranstype, faadsciv.recordtype, faadsciv.correctionlateindicator, faadsciv.fyq_correction, faadsciv.principalstatecode, faadsciv.countycitycode, faadsciv.principalstatename, faadsciv.countycityname, faadsciv.cfdaprogramtitle, faadsciv.fedagencyname, faadsciv.statename, faadsciv.projectdescription, faadsciv.validationuserlink, faadsciv.extractstatus, faadsciv.extractstatusdesc, faadsciv.extractdate, faadsciv.docnum, faadsciv.ordernum, faadsciv.versionnum, faadsciv.awarddate, faadsciv.releasedate, faadsciv.updateuserid, faadsciv.updatetimestamp, faadsciv.formversion, faadsciv.reporttype, faadsciv.obligatedamt, faadsciv.owneruserkey, faadsciv.reportfy, faadsciv.reportqtr, faadsciv.recipientid, faadsciv.reserved, faadsciv.cfdaprogramtitleshort, faadsciv.projectlocation, faadsciv.citycode, faadsciv.cityname, faadsciv.statealpha, faadsciv.usegsacode, faadsciv.recipientcitynameshort, faadsciv.faadsplusextractdate, faadsciv.faadsplusextractstatus, faadsciv.faadsplusextractstatusdesc, faadsciv.duns, faadsciv.plus4, faadsciv.dunsconfidencecode, faadsciv.address1, faadsciv.address2, faadsciv.address3, faadsciv.placeofperfzip, faadsciv.placeofperfcongdist, faadsciv.primarytreasurysymbol, faadsciv.loanfacevalue, faadsciv.loansubsidycost, faadsciv.fedfundingamountrecoveryact, faadsciv.recoverytasseg1, faadsciv.recoverytasseg2, faadsciv.recoverytasseg3, faadsciv.nonrecoverytasseg1, faadsciv.nonrecoverytasseg2, faadsciv.nonrecoverytasseg3, faadsciv.fedfundingrecoveryactsign, faadsciv.totalfedfundingsign, faadsciv.totalfedfundingamount, faadsciv.sitetrackrecoveryactfunds, faadsciv.agencyfundstype, faadsciv.tas_label, faadsciv.formattednonrecoverytas#, faadsciv.formattedrecoverytas#, faadsciv.foreignrecipient, faadsciv.recipientcountrycode, faadsciv.recipientcountryname, faadsciv.placeofperfcountrycode, faadsciv.placeofperfcountryname]\n",
       "Index: []\n",
       "\n",
       "[0 rows x 99 columns]"
      ]
     },
     "execution_count": 341,
     "metadata": {},
     "output_type": "execute_result"
    }
   ],
   "source": [
    "faadsciv[faadsciv['faadsciv.docnum'] == 'SBAHQ-14-S-0001']"
   ]
  },
  {
   "cell_type": "code",
   "execution_count": 340,
   "metadata": {
    "collapsed": false,
    "scrolled": true
   },
   "outputs": [
    {
     "data": {
      "text/html": [
       "<div style=\"max-height:1000px;max-width:1500px;overflow:auto;\">\n",
       "<table border=\"1\" class=\"dataframe\">\n",
       "  <thead>\n",
       "    <tr style=\"text-align: right;\">\n",
       "      <th></th>\n",
       "      <th>header.dockey</th>\n",
       "      <th>header.verkey</th>\n",
       "      <th>header.doctype</th>\n",
       "      <th>header.docnum</th>\n",
       "      <th>header.ordernum</th>\n",
       "      <th>header.versionnum</th>\n",
       "      <th>header.basedocumentflag</th>\n",
       "      <th>header.status</th>\n",
       "      <th>header.statusdate</th>\n",
       "      <th>header.edistatus</th>\n",
       "      <th>...</th>\n",
       "      <th>header.autoextend_window</th>\n",
       "      <th>header.autoextend_increment</th>\n",
       "      <th>header.auction_status</th>\n",
       "      <th>header.minimum_biddecrement</th>\n",
       "      <th>header.is_ra_auctionstart</th>\n",
       "      <th>header.auctionfee</th>\n",
       "      <th>header.auctioncanceluserkey</th>\n",
       "      <th>header.auctioncanceldatetime</th>\n",
       "      <th>header.fromauction</th>\n",
       "      <th>header.docnum_stripped</th>\n",
       "    </tr>\n",
       "  </thead>\n",
       "  <tbody>\n",
       "    <tr>\n",
       "      <th>29</th>\n",
       "      <td>78631</td>\n",
       "      <td>37877</td>\n",
       "      <td>500</td>\n",
       "      <td>SBAHQ-15-B-0008</td>\n",
       "      <td>NaN</td>\n",
       "      <td>ORIG</td>\n",
       "      <td>0</td>\n",
       "      <td>5</td>\n",
       "      <td>12/1/2014 10:10:44 AM</td>\n",
       "      <td>NaN</td>\n",
       "      <td>...</td>\n",
       "      <td>NaN</td>\n",
       "      <td>NaN</td>\n",
       "      <td>NaN</td>\n",
       "      <td>NaN</td>\n",
       "      <td>NaN</td>\n",
       "      <td>NaN</td>\n",
       "      <td>NaN</td>\n",
       "      <td>NaN</td>\n",
       "      <td>NaN</td>\n",
       "      <td>SBAHQ15B0008</td>\n",
       "    </tr>\n",
       "  </tbody>\n",
       "</table>\n",
       "<p>1 rows × 337 columns</p>\n",
       "</div>"
      ],
      "text/plain": [
       "   header.dockey header.verkey  header.doctype    header.docnum  \\\n",
       "29         78631         37877             500  SBAHQ-15-B-0008   \n",
       "\n",
       "    header.ordernum header.versionnum  header.basedocumentflag  header.status  \\\n",
       "29              NaN              ORIG                        0              5   \n",
       "\n",
       "        header.statusdate  header.edistatus          ...            \\\n",
       "29  12/1/2014 10:10:44 AM               NaN          ...             \n",
       "\n",
       "    header.autoextend_window  header.autoextend_increment  \\\n",
       "29                       NaN                          NaN   \n",
       "\n",
       "    header.auction_status header.minimum_biddecrement  \\\n",
       "29                    NaN                         NaN   \n",
       "\n",
       "    header.is_ra_auctionstart  header.auctionfee  header.auctioncanceluserkey  \\\n",
       "29                        NaN                NaN                          NaN   \n",
       "\n",
       "    header.auctioncanceldatetime header.fromauction header.docnum_stripped  \n",
       "29                           NaN                NaN           SBAHQ15B0008  \n",
       "\n",
       "[1 rows x 337 columns]"
      ]
     },
     "execution_count": 340,
     "metadata": {},
     "output_type": "execute_result"
    }
   ],
   "source": [
    "header[header['header.docnum'] == 'SBAHQ-15-B-0008']"
   ]
  },
  {
   "cell_type": "code",
   "execution_count": 345,
   "metadata": {
    "collapsed": false
   },
   "outputs": [
    {
     "data": {
      "text/html": [
       "<div style=\"max-height:1000px;max-width:1500px;overflow:auto;\">\n",
       "<table border=\"1\" class=\"dataframe\">\n",
       "  <thead>\n",
       "    <tr style=\"text-align: right;\">\n",
       "      <th></th>\n",
       "      <th>faadsciv.dockey</th>\n",
       "      <th>faadsciv.verkey</th>\n",
       "      <th>faadsciv.status</th>\n",
       "      <th>faadsciv.cfdaprogramnumber</th>\n",
       "      <th>faadsciv.sai_number</th>\n",
       "      <th>faadsciv.recipientname</th>\n",
       "      <th>faadsciv.recipientcitycode</th>\n",
       "      <th>faadsciv.recipientcityname</th>\n",
       "      <th>faadsciv.recipientcountycode</th>\n",
       "      <th>faadsciv.recipientcountyname</th>\n",
       "      <th>...</th>\n",
       "      <th>faadsciv.sitetrackrecoveryactfunds</th>\n",
       "      <th>faadsciv.agencyfundstype</th>\n",
       "      <th>faadsciv.tas_label</th>\n",
       "      <th>faadsciv.formattednonrecoverytas#</th>\n",
       "      <th>faadsciv.formattedrecoverytas#</th>\n",
       "      <th>faadsciv.foreignrecipient</th>\n",
       "      <th>faadsciv.recipientcountrycode</th>\n",
       "      <th>faadsciv.recipientcountryname</th>\n",
       "      <th>faadsciv.placeofperfcountrycode</th>\n",
       "      <th>faadsciv.placeofperfcountryname</th>\n",
       "    </tr>\n",
       "  </thead>\n",
       "  <tbody>\n",
       "  </tbody>\n",
       "</table>\n",
       "<p>0 rows × 99 columns</p>\n",
       "</div>"
      ],
      "text/plain": [
       "Empty DataFrame\n",
       "Columns: [faadsciv.dockey, faadsciv.verkey, faadsciv.status, faadsciv.cfdaprogramnumber, faadsciv.sai_number, faadsciv.recipientname, faadsciv.recipientcitycode, faadsciv.recipientcityname, faadsciv.recipientcountycode, faadsciv.recipientcountyname, faadsciv.recipientstatecode, faadsciv.recipientzipcode, faadsciv.recipienttype, faadsciv.actiontype, faadsciv.recipientdistrict, faadsciv.fedagencyorgunitcode, faadsciv.corenumber, faadsciv.modnumber, faadsciv.fedfundingsign, faadsciv.fedfundingamount, faadsciv.nonfedfundingsign, faadsciv.nonfedfundingamount, faadsciv.totalfundingsign, faadsciv.totalfundingamount, faadsciv.actiondate, faadsciv.startdate, faadsciv.enddate, faadsciv.assistancetranstype, faadsciv.recordtype, faadsciv.correctionlateindicator, faadsciv.fyq_correction, faadsciv.principalstatecode, faadsciv.countycitycode, faadsciv.principalstatename, faadsciv.countycityname, faadsciv.cfdaprogramtitle, faadsciv.fedagencyname, faadsciv.statename, faadsciv.projectdescription, faadsciv.validationuserlink, faadsciv.extractstatus, faadsciv.extractstatusdesc, faadsciv.extractdate, faadsciv.docnum, faadsciv.ordernum, faadsciv.versionnum, faadsciv.awarddate, faadsciv.releasedate, faadsciv.updateuserid, faadsciv.updatetimestamp, faadsciv.formversion, faadsciv.reporttype, faadsciv.obligatedamt, faadsciv.owneruserkey, faadsciv.reportfy, faadsciv.reportqtr, faadsciv.recipientid, faadsciv.reserved, faadsciv.cfdaprogramtitleshort, faadsciv.projectlocation, faadsciv.citycode, faadsciv.cityname, faadsciv.statealpha, faadsciv.usegsacode, faadsciv.recipientcitynameshort, faadsciv.faadsplusextractdate, faadsciv.faadsplusextractstatus, faadsciv.faadsplusextractstatusdesc, faadsciv.duns, faadsciv.plus4, faadsciv.dunsconfidencecode, faadsciv.address1, faadsciv.address2, faadsciv.address3, faadsciv.placeofperfzip, faadsciv.placeofperfcongdist, faadsciv.primarytreasurysymbol, faadsciv.loanfacevalue, faadsciv.loansubsidycost, faadsciv.fedfundingamountrecoveryact, faadsciv.recoverytasseg1, faadsciv.recoverytasseg2, faadsciv.recoverytasseg3, faadsciv.nonrecoverytasseg1, faadsciv.nonrecoverytasseg2, faadsciv.nonrecoverytasseg3, faadsciv.fedfundingrecoveryactsign, faadsciv.totalfedfundingsign, faadsciv.totalfedfundingamount, faadsciv.sitetrackrecoveryactfunds, faadsciv.agencyfundstype, faadsciv.tas_label, faadsciv.formattednonrecoverytas#, faadsciv.formattedrecoverytas#, faadsciv.foreignrecipient, faadsciv.recipientcountrycode, faadsciv.recipientcountryname, faadsciv.placeofperfcountrycode, faadsciv.placeofperfcountryname]\n",
       "Index: []\n",
       "\n",
       "[0 rows x 99 columns]"
      ]
     },
     "execution_count": 345,
     "metadata": {},
     "output_type": "execute_result"
    }
   ],
   "source": [
    "faadsciv[faadsciv['faadsciv.dockey'] == 78623]"
   ]
  },
  {
   "cell_type": "code",
>>>>>>> Stashed changes
   "execution_count": null,
   "metadata": {
    "collapsed": true
   },
   "outputs": [],
   "source": []
  }
 ],
 "metadata": {
  "kernelspec": {
   "display_name": "Python 3",
   "language": "python",
   "name": "python3"
  },
  "language_info": {
   "codemirror_mode": {
    "name": "ipython",
    "version": 3
   },
   "file_extension": ".py",
   "mimetype": "text/x-python",
   "name": "python",
   "nbconvert_exporter": "python",
   "pygments_lexer": "ipython3",
   "version": "3.4.2"
  }
 },
 "nbformat": 4,
 "nbformat_minor": 0
}
