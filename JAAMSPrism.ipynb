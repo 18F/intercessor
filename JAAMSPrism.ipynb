{
 "cells": [
  {
   "cell_type": "code",
   "execution_count": 273,
   "metadata": {
    "collapsed": false
   },
   "outputs": [],
   "source": [
    "import pandas as pd\n",
    "import numpy as np\n",
    "pd.set_option('expand_frame_repr', True)\n",
    "award_string = 'SBAHQ-'"
   ]
  },
  {
   "cell_type": "markdown",
   "metadata": {},
   "source": [
    "## Find Files and Columns\n",
    "Using a sample award id string, look through JAAMS and Prism files to see which ones contain award ids.\n",
    "For files that contain award id data, find out which column(s) the award id is in."
   ]
  },
  {
   "cell_type": "code",
   "execution_count": 274,
   "metadata": {
    "collapsed": false
   },
   "outputs": [],
   "source": [
    "#assuming that award ids for this data subset are start with 'SBAHQ-', \n",
    "#find the JAAMS and Prism tables that contain award is somewhere\n",
    "#in their data\n",
    "awards_files = !grep --include=\\*.txt -rnl -e 'SBAHQ-'  data\n",
    "jaams_awards_files = [f.split('\\n')[0] for f in awards_files if f.find('jaams') > -1]\n",
    "prism_awards_files = [f.split('\\n')[0] for f in awards_files if f.find('prism') > -1]\n",
    "prism = {}\n",
    "#raw prism files aren't quoted, so many lines won't parse (skip them for now)\n",
    "for fi in prism_awards_files:\n",
    "    key = fi.split('/')[-1][:-4].lower()\n",
    "    prism[key] = pd.read_csv(fi, error_bad_lines = False, warn_bad_lines = False, encoding=\"latin_1\")\n",
    "    prism[key].rename(columns=lambda x: '{}.'.format(key) + x.lower(), inplace = True)\n",
    "prism_csv = pd.read_csv('data/data_act_prism_grants_fy14.csv', encoding=\"latin_1\")\n",
    "jaams = {}\n",
    "for fi in jaams_awards_files:\n",
    "    key = fi.split('/')[-1][:-4].lower()\n",
    "    jaams[key] = pd.read_csv(fi)\n",
    "    jaams[key].rename(columns=lambda x: '{}.'.format(key) + x.lower(), inplace = True)"
   ]
  },
  {
   "cell_type": "markdown",
   "metadata": {},
   "source": [
    "### JAAMS"
   ]
  },
  {
   "cell_type": "code",
   "execution_count": 275,
   "metadata": {
    "collapsed": false
   },
   "outputs": [
    {
     "name": "stdout",
     "output_type": "stream",
     "text": [
      "looking for JAAMS colums that have an award id\n",
      "\n",
      "po_lines_all: po_lines_all.attribute1\n",
      "ap_invoice_distributions_all: ap_invoice_distributions_all.attribute3\n",
      "po_requisition_headers_all: po_requisition_headers_all.attribute2\n",
      "ap_invoices_all: ap_invoices_all.invoice_num\n",
      "ap_invoices_all: ap_invoices_all.attribute11\n",
      "po_headers_all: po_headers_all.segment1\n"
     ]
    }
   ],
   "source": [
    "print('looking for JAAMS colums that have an award id\\n')\n",
    "for k, df in jaams.items():\n",
    "    for col in df:\n",
    "        if df[col].to_string().find(award_string) >= 0:\n",
    "            print ('{}: {}'.format(k, col))"
   ]
  },
  {
   "cell_type": "markdown",
   "metadata": {},
   "source": [
    "### Prism"
   ]
  },
  {
   "cell_type": "code",
   "execution_count": 276,
   "metadata": {
    "collapsed": false,
    "scrolled": true
   },
   "outputs": [
    {
     "name": "stdout",
     "output_type": "stream",
     "text": [
      "looking for Prism colums that have an award id\n",
      "\n",
      "grantheader: grantheader.sba1222progcode\n",
      "grantheader: grantheader.sba1222budgetcode\n",
      "grantheader: grantheader.sba1222documentno\n",
      "faadsciv: faadsciv.docnum\n",
      "header: header.docnum\n",
      "prism csv: Grant Number\n",
      "prism csv: Award ID\n",
      "prism csv: Unique Identifer\n"
     ]
    }
   ],
   "source": [
    "print('looking for Prism colums that have an award id\\n')\n",
    "for k, df in prism.items():\n",
    "    for col in df:\n",
    "        if df[col].to_string().find(award_string) >= 0:\n",
    "            print ('{}: {}'.format(k, col))\n",
    "for col in prism_csv:\n",
    "    if prism_csv[col].to_string().find(award_string) >= 0:\n",
    "        print ('prism csv: {}'.format(col))"
   ]
  },
  {
   "cell_type": "markdown",
   "metadata": {},
   "source": [
    "## Joining JAAMS and Prism\n",
    "\n",
    "Very, very preliminary sketch of relationship between Prism and JAAMS.\n",
    "* According to the SBA mapping doc, the unique award id is in JAAMS: PO_HEADERS_ALL.SEGMENT1\n",
    "* Obviously we need an award id in Prism to join the two systems. A few Prism tables had columns that contain award id-looking information:\n",
    "    * header.docnum\n",
    "    * grantheader.sba1222progcode\n",
    "    * grantheader.sba1222budgetcode\n",
    "    * grantheader.sba1222documentno\n",
    "    * faadsciv.docnum\n",
    "    \n",
    "The columns in grantheader look like they are free-text columns that sometimes contain what looks like the JAAMS award id. It doesn't seem like the right match."
   ]
  },
  {
   "cell_type": "markdown",
   "metadata": {},
   "source": [
    "![Prism/JAAMS relationship](prism_jaams_relationship.png 'Prism/JAAMS relatinoship')"
   ]
  },
  {
   "cell_type": "markdown",
   "metadata": {},
   "source": [
    "## JAAMS PO_HEADERS_ALL to Prism Header.docnum\n",
    "\n",
    "This matches 18 records between JAAMS and Prism (a single award id: SBAHQ-14-S-0001)"
   ]
  },
  {
   "cell_type": "code",
   "execution_count": 277,
   "metadata": {
    "collapsed": false,
    "scrolled": true
   },
   "outputs": [
    {
     "name": "stdout",
     "output_type": "stream",
     "text": [
      "Number of po_headers_all records matched to prism header: 18\n",
      "Award ids matched: ['SBAHQ-14-S-0001']\n"
     ]
    },
    {
     "name": "stderr",
     "output_type": "stream",
     "text": [
      "/Users/rebeccasweger/Dev/.virtualenvs/intercessor/lib/python2.7/site-packages/IPython/kernel/__main__.py:6: SettingWithCopyWarning: \n",
      "A value is trying to be set on a copy of a slice from a DataFrame.\n",
      "Try using .loc[row_indexer,col_indexer] = value instead\n",
      "\n",
      "See the the caveats in the documentation: http://pandas.pydata.org/pandas-docs/stable/indexing.html#indexing-view-versus-copy\n"
     ]
    }
   ],
   "source": [
    "header = prism['header']\n",
    "po_headers_all = jaams['po_headers_all']\n",
    "po_headers_all['po_headers_all.segment1_stripped'] = po_headers_all['po_headers_all.segment1'].replace('-', '', regex = True)\n",
    "#remove some strange rows from the header file\n",
    "header = header.dropna(subset = ['header.docnum', 'header.dockey'])\n",
    "header['header.docnum_stripped'] = header['header.docnum'].replace('-', '', regex = True)\n",
    "\n",
    "jp_merge = pd.merge(\n",
    "    po_headers_all,\n",
    "    header,\n",
    "    left_on = 'po_headers_all.segment1_stripped',\n",
    "    right_on = 'header.docnum_stripped')\n",
    "print ('Number of po_headers_all records matched to prism header: {}'.format(len(jp_merge.index)))\n",
    "print ('Award ids matched: {}'.format(pd.unique(jp_merge['po_headers_all.segment1'].ravel())))"
   ]
  },
  {
   "cell_type": "markdown",
   "metadata": {},
   "source": [
    "## JAAMS PO_HEADERS_ALL to Prism faadsciv\n",
    "\n",
    "Nothing matched, even though it looks like it should (i.e., SBAHQ-14-S-0001 is in the faadsciv file.) Deferring this for now, since it doesn't make sense to match to something faads (i.e., grants) specific)"
   ]
  },
  {
   "cell_type": "code",
   "execution_count": 278,
   "metadata": {
    "collapsed": false
   },
   "outputs": [],
   "source": [
    "#faadsciv = prism['faadsciv']\n",
    "#faadsciv['faadsciv.docnum_stripped'] = faadsciv['faadsciv.docnum'].replace('-', '', regex = True)\n",
    "#jp_merge = pd.merge(\n",
    "#    po_headers_all,\n",
    "#    faadsciv,\n",
    "#    left_on = 'po_headers_all.segment1_stripped',\n",
    "#    right_on = 'faadsciv.docnum_stripped')\n",
    "#print ('Number of po_headers_all records matched to prism faadsciv: {}'.format(len(jp_merge.index)))\n",
    "#print ('Award ids matched: {}'.format(pd.unique(jp_merge['po_headers_all.segment1'].ravel())))"
   ]
  },
  {
   "cell_type": "markdown",
   "metadata": {},
   "source": [
    "## Merge in Other Required Data"
   ]
  },
  {
   "cell_type": "markdown",
   "metadata": {},
   "source": [
    "### Vendor\n",
    "According to mapping doc, the first address line of the awardee/recipient comes from SAM. The remaining portions of the address are mapped to Prism table docvendor."
   ]
  },
  {
   "cell_type": "code",
   "execution_count": 279,
   "metadata": {
    "collapsed": false
   },
   "outputs": [],
   "source": [
    "jp_merge['header.dockey'] = jp_merge['header.dockey'].astype(np.int64)\n",
    "jp_merge['header.verkey'] = jp_merge['header.verkey'].astype(np.int64)\n",
    "jp_merge.to_csv('jpmerge_before.csv', index = False)\n",
    "docvendor = pd.read_csv(\n",
    "    'data/prism/docVendor.txt',\n",
    "    index_col = False,\n",
    "    error_bad_lines = False,\n",
    "    warn_bad_lines = False\n",
    ")\n",
    "docvendor.rename(columns = lambda x: 'docvendor.' + x.lower(), inplace = True)\n",
    "jp_merge = pd.merge(\n",
    "    jp_merge, docvendor,\n",
    "    left_on = ['header.dockey', 'header.verkey'],\n",
    "    right_on = ['docvendor.dockey', 'docvendor.verkey']\n",
    ")"
   ]
  },
  {
   "cell_type": "markdown",
   "metadata": {},
   "source": [
    "### PO_LINES_ALL (for award amount info)\n",
    "\n",
    "This join was fairly straighforward, since it was included in the sample SQL we got)"
   ]
  },
  {
   "cell_type": "code",
   "execution_count": 280,
   "metadata": {
    "collapsed": false
   },
   "outputs": [
    {
     "data": {
      "text/plain": [
       "162"
      ]
     },
     "execution_count": 280,
     "metadata": {},
     "output_type": "execute_result"
    }
   ],
   "source": [
    "po_lines_all = jaams['po_lines_all']\n",
    "jp_merge = pd.merge(\n",
    "    jp_merge, po_lines_all,\n",
    "    left_on = ['po_headers_all.po_header_id'],\n",
    "    right_on = ['po_lines_all.po_header_id']\n",
    ")\n",
    "len(jp_merge.index)"
   ]
  },
  {
   "cell_type": "code",
   "execution_count": 281,
   "metadata": {
    "collapsed": false
   },
   "outputs": [
    {
     "data": {
      "text/plain": [
       "162"
      ]
     },
     "execution_count": 281,
     "metadata": {},
     "output_type": "execute_result"
    }
   ],
   "source": [
    "jp_merge.to_csv('jp_merge.csv', index = False)\n",
    "len(jp_merge.index)"
   ]
  },
  {
   "cell_type": "markdown",
   "metadata": {},
   "source": [
    "### PO_DISTRIBUTIONS_ALL (for type of transaction)"
   ]
  },
  {
   "cell_type": "code",
   "execution_count": 282,
   "metadata": {
    "collapsed": false
   },
   "outputs": [],
   "source": [
    "po_distributions_all = pd.read_csv('data/jaams/PO_DISTRIBUTIONS_ALL.txt')\n",
    "po_distributions_all.rename(columns = lambda x: 'po_distributions_all.' + x.lower(), inplace = True)\n",
    "jp_merge = pd.merge(\n",
    "    jp_merge, po_distributions_all,\n",
    "    left_on = ['po_lines_all.po_header_id', 'po_lines_all.po_line_id'],\n",
    "    right_on = ['po_distributions_all.po_header_id', 'po_distributions_all.po_line_id']\n",
    ")"
   ]
  },
  {
   "cell_type": "markdown",
   "metadata": {},
   "source": [
    "## Add Calculated Fields"
   ]
  },
  {
   "cell_type": "code",
   "execution_count": 283,
   "metadata": {
    "collapsed": false
   },
   "outputs": [],
   "source": [
    "jp_merge['po_lines_all.total_amount'] = jp_merge['po_lines_all.quantity'] * jp_merge['po_lines_all.unit_price']\n",
    "jp_merge['funding_agency_name'] = 'Small Business Administration'\n",
    "jp_merge['funding_agency_code'] = 'fill in SBA code here'\n",
    "jp_merge['funding_sub_tier_agency_name'] = 'Small Business Administration'\n",
    "jp_merge['funding_sub_tier_agency_code'] = 'fill in SBA code here'"
   ]
  },
  {
   "cell_type": "markdown",
   "metadata": {},
   "source": [
    "## Reduce the Huge Merged File to DATA Act Elements"
   ]
  },
  {
   "cell_type": "code",
   "execution_count": 290,
   "metadata": {
    "collapsed": false
   },
   "outputs": [],
   "source": [
    "data_act = jp_merge[[\n",
    "    'po_lines_all.item_description', #award description\n",
    "    'po_headers_all.segment1', #award id\n",
    "    'header.issuingdocaddresskey', #awarding office code\n",
    "    'header.awarddate', #action date\n",
    "    'docvendor.name', #Recipient name\n",
    "    'po_distributions_all.attribute10', #period of performance start date\n",
    "    'po_distributions_all.attribute11', #period of performance end date\n",
    "    'docvendor.duns', #\n",
    "    'docvendor.dunsplus4',\n",
    "    'docvendor.address1',\n",
    "    'po_lines_all.total_amount', #funding action obligation (does not account for cancellations etc.)\n",
    "    'funding_agency_name',\n",
    "    'funding_agency_code',\n",
    "    'funding_sub_tier_agency_name',\n",
    "    'funding_sub_tier_agency_code',\n",
    "    'po_distributions_all.attribute_category' #type of award code\n",
    "    ]]"
   ]
  },
  {
   "cell_type": "code",
   "execution_count": 291,
   "metadata": {
    "collapsed": true
   },
   "outputs": [],
   "source": [
    "data_act.to_csv('data/data_act.csv', index = False)"
   ]
  },
  {
   "cell_type": "code",
   "execution_count": null,
   "metadata": {
    "collapsed": true
   },
   "outputs": [],
   "source": []
  }
 ],
 "metadata": {
  "kernelspec": {
   "display_name": "Python 3",
   "language": "python",
   "name": "python3"
  },
  "language_info": {
   "codemirror_mode": {
    "name": "ipython",
    "version": 3
   },
   "file_extension": ".py",
   "mimetype": "text/x-python",
   "name": "python",
   "nbconvert_exporter": "python",
   "pygments_lexer": "ipython3",
   "version": "3.4.2"
  }
 },
 "nbformat": 4,
 "nbformat_minor": 0
}
